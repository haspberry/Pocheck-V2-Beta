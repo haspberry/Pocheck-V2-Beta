{
 "cells": [
  {
   "cell_type": "code",
   "execution_count": 1,
   "metadata": {},
   "outputs": [],
   "source": [
    "#coding=utf-8\n",
    "import sys\n",
    "import numpy as np\n",
    "from common import *\n",
    "from scipy.io import loadmat\n",
    "from sklearn import metrics\n",
    "from sklearn.decomposition import PCA\n",
    "from sklearn.externals import joblib\n",
    "from joint_bayesian import *\n",
    "import tensorflow as tf\n",
    "import numpy as np\n",
    "import argparse\n",
    "import facenet\n",
    "import detect_face\n",
    "import os\n",
    "import sys\n",
    "import math\n",
    "import pickle\n",
    "from sklearn.svm import SVC"
   ]
  },
  {
   "cell_type": "code",
   "execution_count": 2,
   "metadata": {},
   "outputs": [
    {
     "name": "stdout",
     "output_type": "stream",
     "text": [
      "Number of classes: 136\n",
      "Number of images: 10824\n",
      "Loading feature extraction model\n",
      "Model filename: parameter/20180402-114759/20180402-114759.pb\n",
      "Calculating features for images\n",
      "0\n",
      "[[ 0.00182328 -0.02977761 -0.04932759 ... -0.05696321 -0.01685259\n",
      "   0.01652232]\n",
      " [ 0.07165083 -0.00872429 -0.00922326 ... -0.01227255 -0.03999925\n",
      "  -0.01334668]\n",
      " [ 0.1034187  -0.00802998  0.0019207  ... -0.00513172 -0.04029639\n",
      "  -0.01521532]\n",
      " ...\n",
      " [ 0.03613141 -0.0399299  -0.04435496 ...  0.02301129 -0.0073959\n",
      "   0.01649485]\n",
      " [ 0.02712402 -0.10455494 -0.02683702 ... -0.06066393 -0.09218856\n",
      "  -0.02170003]\n",
      " [ 0.01641258 -0.00865528 -0.07319351 ...  0.00871961 -0.02030928\n",
      "   0.03157901]]\n"
     ]
    }
   ],
   "source": [
    "with tf.Graph().as_default():\n",
    "\n",
    "    with tf.Session() as sess:\n",
    "\n",
    "        datadir = 'actor_136/'\n",
    "        dataset = facenet.get_dataset(datadir)\n",
    "        paths, labels = facenet.get_image_paths_and_labels(dataset)\n",
    "        print('Number of classes: %d' % len(dataset))\n",
    "        print('Number of images: %d' % len(paths))\n",
    "\n",
    "        print('Loading feature extraction model')\n",
    "        modeldir = 'parameter/20180402-114759/20180402-114759.pb'\n",
    "        facenet.load_model(modeldir)\n",
    "\n",
    "        images_placeholder = tf.get_default_graph().get_tensor_by_name(\"input:0\")\n",
    "        embeddings = tf.get_default_graph().get_tensor_by_name(\"embeddings:0\")\n",
    "        phase_train_placeholder = tf.get_default_graph().get_tensor_by_name(\"phase_train:0\")\n",
    "        embedding_size = embeddings.get_shape()[1]\n",
    "\n",
    "        # Run forward pass to calculate embeddings\n",
    "        print('Calculating features for images')\n",
    "        batch_size = 10\n",
    "        image_size = 160\n",
    "        nrof_images = len(paths)\n",
    "        nrof_batches_per_epoch = int(math.ceil(1.0 * nrof_images / batch_size))\n",
    "        emb_array = np.zeros((nrof_images, embedding_size))\n",
    "        epoch = 1\n",
    "\n",
    "        for k in range(epoch):\n",
    "            print(k)\n",
    "            for i in range(nrof_batches_per_epoch):\n",
    "                start_index = i * batch_size\n",
    "                end_index = min((i + 1) * batch_size, nrof_images)\n",
    "                paths_batch = paths[start_index:end_index]\n",
    "                images = facenet.load_data(paths_batch, False, False, image_size)\n",
    "                feed_dict = {images_placeholder: images, phase_train_placeholder: False}\n",
    "                emb_array[start_index:end_index, :] = sess.run(embeddings, feed_dict=feed_dict)\n",
    "        print(emb_array)"
   ]
  },
  {
   "cell_type": "code",
   "execution_count": 3,
   "metadata": {},
   "outputs": [],
   "source": [
    "import pandas as pd"
   ]
  },
  {
   "cell_type": "code",
   "execution_count": 4,
   "metadata": {},
   "outputs": [],
   "source": [
    "datas = pd.DataFrame(emb_array)\n",
    "label = pd.DataFrame(labels, columns=['label'])\n",
    "results = pd.concat([datas, label], axis=1)"
   ]
  },
  {
   "cell_type": "code",
   "execution_count": 5,
   "metadata": {},
   "outputs": [],
   "source": [
    "res = results.groupby(['label']).mean()"
   ]
  },
  {
   "cell_type": "code",
   "execution_count": 6,
   "metadata": {},
   "outputs": [],
   "source": [
    "with open('./JB_result/mean_emb_result.pkl', \"wb\") as f:\n",
    "    pickle.dump(res.values, f)"
   ]
  },
  {
   "cell_type": "code",
   "execution_count": null,
   "metadata": {},
   "outputs": [],
   "source": []
  }
 ],
 "metadata": {
  "kernelspec": {
   "display_name": "Python 3",
   "language": "python",
   "name": "python3"
  },
  "language_info": {
   "codemirror_mode": {
    "name": "ipython",
    "version": 3
   },
   "file_extension": ".py",
   "mimetype": "text/x-python",
   "name": "python",
   "nbconvert_exporter": "python",
   "pygments_lexer": "ipython3",
   "version": "3.6.8"
  }
 },
 "nbformat": 4,
 "nbformat_minor": 2
}
